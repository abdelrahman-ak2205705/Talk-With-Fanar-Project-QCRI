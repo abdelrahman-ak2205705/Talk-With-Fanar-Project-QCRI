{
 "cells": [
  {
   "cell_type": "code",
   "execution_count": 10,
   "id": "76e5796a",
   "metadata": {},
   "outputs": [],
   "source": [
    "import os, sys\n",
    "# import openai\n",
    "from openai import AzureOpenAI\n",
    "# !pip install python-dotenv\n",
    "from dotenv import load_dotenv\n",
    "import json"
   ]
  },
  {
   "cell_type": "code",
   "execution_count": null,
   "id": "3174aa88",
   "metadata": {},
   "outputs": [],
   "source": [
    "def APIKeyManager(model_type, key_path):\n",
    "    \n",
    "    load_dotenv(dotenv_path=key_path, override=True)\n",
    "    if model_type=='azure':\n",
    "        client = AzureOpenAI(\n",
    "            api_version=os.environ[\"AZURE_API_VERSION\"],\n",
    "            azure_endpoint=os.environ[\"AZURE_OPENAI_ENDPOINT\"],\n",
    "            api_key=os.environ[\"AZURE_API_KEY\"],\n",
    "        )\n",
    "        return client\n",
    "    elif model_type=='fanar':\n",
    "        pass\n",
    "    elif model_type=='gemini':\n",
    "        pass\n",
    "    return client\n",
    "\n",
    "# Load environment variables\n",
    "model_type=\"azure\"\n",
    "deployment = APIKeyManager(model_type, \"./azure.env\")\n"
   ]
  },
  {
   "cell_type": "code",
   "execution_count": 81,
   "id": "08a84582",
   "metadata": {},
   "outputs": [],
   "source": [
    "class PodcastOutlineGenerator:\n",
    "    def __init__(self, deployment, model=\"gpt-4o\"):\n",
    "        self.model = model\n",
    "\n",
    "    def generate_outline(self, topic, information,host_persona, guest_persona,):\n",
    "        prompt = f\"\"\"\n",
    "You are tasked with creating a clear and engaging structured outline for a podcast episode on the topic: '{topic}'.\n",
    "\n",
    "Use the following personas clearly:\n",
    "- Host: '{host_persona}'\n",
    "- Guest: '{guest_persona}'\n",
    "\n",
    "Base your outline on this provided information:\n",
    "{information}\n",
    "\n",
    "Organize your outline strictly in the following JSON format, using these exact keys:\n",
    "\n",
    "{{\n",
    "    \"Intro1\": {{\n",
    "        \"description\": \"Brief overview of the podcast and general welcome from the host.\",\n",
    "        \"script\": [\"Engaging and enthusiastic introduction by the host.\"]\n",
    "    }},\n",
    "    \"Intro2\": {{\n",
    "        \"description\": \"Introduction of today's topic and brief bio of the guest speaker.\",\n",
    "        \"script\": [\"Introduction to topic by host.\", \"Warm welcome and brief guest introduction.\"]\n",
    "    }},\n",
    "    \"Points\": {{\n",
    "        \"talking_points\": {{\n",
    "            \"Point Title 1\": {{\n",
    "                \"discussion\": \"Brief discussion of talking point.\",\n",
    "                \"questions\": [\n",
    "                    \"Relevant question 1?\",\n",
    "                    \"Relevant question 2?\"\n",
    "                ],\n",
    "                \"response_hint\": \"Brief guidance on the desired guest response.\"\n",
    "            }},\n",
    "            \"... Additional points as appropriate ...\"\n",
    "        }}\n",
    "    }},\n",
    "    \"Con\": {{\n",
    "        \"description\": \"Summary and reflection, leaving listeners with a thoughtful question.\",\n",
    "        \"script\": [\"Powerful summary statement.\", \"Thought-provoking closing question for the audience.\"]\n",
    "    }}\n",
    "}}\n",
    "\n",
    "Return only valid JSON adhering strictly to this structure without additional explanatory text.\n",
    "Just return the output in json format without any seperate markers\n",
    "\"\"\"\n",
    "        response = deployment.chat.completions.create(\n",
    "            model=self.model,\n",
    "            messages=[\n",
    "                {\"role\": \"system\", \"content\": \"You are a skilled podcast content planner.\"},\n",
    "                {\"role\": \"user\", \"content\": prompt}\n",
    "            ]\n",
    "        )\n",
    "        return response.choices[0].message.content\n"
   ]
  },
  {
   "cell_type": "code",
   "execution_count": 82,
   "id": "f1ab6ebe",
   "metadata": {},
   "outputs": [],
   "source": [
    "outline_generator = PodcastOutlineGenerator (deployment)\n"
   ]
  },
  {
   "cell_type": "code",
   "execution_count": 83,
   "id": "d98d4983",
   "metadata": {},
   "outputs": [
    {
     "name": "stdout",
     "output_type": "stream",
     "text": [
      "Generated Outline:\n",
      " {\n",
      "    \"Intro1\": {\n",
      "        \"description\": \"Brief overview of the podcast and general welcome from the host.\",\n",
      "        \"script\": [\"Welcome listeners to today's episode of 'Future of Learning'!\", \"I'm Alex, your host, and I'm thrilled you're joining us to explore cutting-edge ideas in education.\"]\n",
      "    },\n",
      "    \"Intro2\": {\n",
      "        \"description\": \"Introduction of today's topic and brief bio of the guest speaker.\",\n",
      "        \"script\": [\"Today, we dive into a fascinating topic: how Artificial Intelligence is reshaping education.\", \"Joining us is Jamie, a technology enthusiast and CEO of an innovative startup focusing on AI applications for learning.\"]\n",
      "    },\n",
      "    \"Points\": {\n",
      "        \"talking_points\": {\n",
      "            \"Personalized Learning\": {\n",
      "                \"discussion\": \"Exploring how AI enables tailored educational experiences based on individual student needs.\",\n",
      "                \"questions\": [\n",
      "                    \"How does AI create personalized learning paths for students?\",\n",
      "                    \"What are the examples of tools or systems doing this successfully?\"\n",
      "                ],\n",
      "                \"response_hint\": \"Discuss specific AI tools, algorithms, and how they adapt content to individual learning styles.\"\n",
      "            },\n",
      "            \"Automated Grading\": {\n",
      "                \"discussion\": \"Discussion on how AI is speeding up grading while reducing educator workload.\",\n",
      "                \"questions\": [\n",
      "                    \"In what ways is AI improving the grading process?\",\n",
      "                    \"Do you see AI impacting teacher-student interactions as grading becomes automated?\"\n",
      "                ],\n",
      "                \"response_hint\": \"Provide examples of automated grading systems, emphasizing efficiency and teacher benefits.\"\n",
      "            },\n",
      "            \"Accessibility for Students with Disabilities\": {\n",
      "                \"discussion\": \"How AI is enhancing accessibility and helping students with disabilities thrive.\",\n",
      "                \"questions\": [\n",
      "                    \"What types of AI tools are helping students with disabilities?\",\n",
      "                    \"How does AI ensure inclusivity in modern classrooms?\"\n",
      "                ],\n",
      "                \"response_hint\": \"Highlight tools like speech-to-text software, visual aids, and their positive impact.\"\n",
      "            },\n",
      "            \"Ethical Concerns and Data Privacy\": {\n",
      "                \"discussion\": \"Examining ethical implications, data security, and biases linked to AI in education.\",\n",
      "                \"questions\": [\n",
      "                    \"What are the ethical concerns educators and institutions should consider?\",\n",
      "                    \"How can developers address bias in AI algorithms?\"\n",
      "                ],\n",
      "                \"response_hint\": \"Discuss issues of consent, secure data storage, and ensuring fair AI use in diverse student populations.\"\n",
      "            }\n",
      "        }\n",
      "    },\n",
      "    \"Con\": {\n",
      "        \"description\": \"Summary and reflection, leaving listeners with a thoughtful question.\",\n",
      "        \"script\": [\"AI is undoubtedly transforming education, bridging gaps and unlocking new potential, but it also demands careful consideration of ethical and operational challenges.\", \"What do you think—how should education systems best integrate AI responsibly and equitably?\"]\n",
      "    }\n",
      "}\n"
     ]
    }
   ],
   "source": [
    "# import PodcastOutlineGenerator\n",
    "topic = \"AI in Education\"\n",
    "information = (\n",
    "    \"AI is transforming education through personalized learning, automated grading, intelligent tutoring systems, \"\n",
    "    \"and providing accessibility for students with disabilities. Challenges include ethical concerns, data privacy, \"\n",
    "    \"and potential biases in algorithms.\"\n",
    ")\n",
    "host_persona = \"Alex, an experienced educator\"\n",
    "guest_persona = \"Jamie, a technology enthusiast and CEO of a startup\"\n",
    "\n",
    "outline_text = outline_generator.generate_outline(topic, information, host_persona, guest_persona)\n",
    "print(\"Generated Outline:\\n\", outline_text)\n",
    "# podcast_creator = PodcastCreator(topic, information, host_persona, guest_persona)\n",
    "\n",
    "\n"
   ]
  },
  {
   "cell_type": "code",
   "execution_count": 68,
   "id": "cece3b0f",
   "metadata": {},
   "outputs": [],
   "source": [
    "class DialogueEnhancer:\n",
    "    def __init__(self, deployment,model=\"gpt-4o\"):\n",
    "        self.model = model\n",
    "\n",
    "    def enhance_section(self, section_name, content, criteria):\n",
    "        prompt = (\n",
    "            f\"\"\"Given the following podcast section, modify it based on the following criteria: {criteria}\n",
    "\n",
    "            Section: {section_name}\n",
    "            Content: {content}\n",
    "\n",
    "            Provide a compelling and engaging script.\"\"\"\n",
    "        )\n",
    "        response = deployment.chat.completions.create(\n",
    "            model=self.model,\n",
    "            messages=[\n",
    "                {\"role\": \"system\", \"content\": \"You are a professional podcast scriptwriter.\"},\n",
    "                {\"role\": \"user\", \"content\": prompt}\n",
    "            ]\n",
    "        )\n",
    "        return response.choices[0].message.content\n"
   ]
  },
  {
   "cell_type": "code",
   "execution_count": 69,
   "id": "a07febcf",
   "metadata": {},
   "outputs": [],
   "source": [
    "class SpontaneousDialogueGenerator:\n",
    "    def __init__(self, deployment, model=\"gpt-4o\"):\n",
    "        self.model = model\n",
    "\n",
    "    def generate_dialogue(self, section, section_content, host_persona, guest_persona):\n",
    "        prompt = (\n",
    "            f\"\"\"Transform the following structured podcast section into a spontaneous dialogue between a host named {host_persona} and a guest named {guest_persona}, naturally including conversational fillers, pauses with possible duration in brackets [pause: 2s], and interaction tags.\n",
    "            \n",
    "            Section: {section}\n",
    "            Content: {section_content}\n",
    "            \n",
    "            Include conversational tags like <laughter>, <overlap>, <interruption>, <hesitations> naturally and also include speaker identification like Host:<utt>, Guest: <utt>.\n",
    "            \"\"\"\n",
    "        )\n",
    "        response = deployment.chat.completions.create(\n",
    "            model=self.model,\n",
    "            messages=[\n",
    "                {\"role\": \"system\", \"content\": \"You are an expert at writing spontaneous and realistic podcast dialogues.\"},\n",
    "                {\"role\": \"user\", \"content\": prompt}\n",
    "            ]\n",
    "        )\n",
    "        return response.choices[0].message.content"
   ]
  },
  {
   "cell_type": "code",
   "execution_count": 70,
   "id": "7af4c7a6",
   "metadata": {},
   "outputs": [],
   "source": [
    "dialogue_generator=SpontaneousDialogueGenerator(deployment)\n",
    "enhancer=DialogueEnhancer(deployment)"
   ]
  },
  {
   "cell_type": "code",
   "execution_count": 89,
   "id": "77df62fa",
   "metadata": {},
   "outputs": [],
   "source": [
    "outline = json.loads(outline_text)"
   ]
  },
  {
   "cell_type": "code",
   "execution_count": 90,
   "id": "47b39453",
   "metadata": {},
   "outputs": [
    {
     "name": "stdout",
     "output_type": "stream",
     "text": [
      "{'Intro1': {'description': 'Brief overview of the podcast and general welcome from the host.', 'script': [\"Welcome listeners to today's episode of 'Future of Learning'!\", \"I'm Alex, your host, and I'm thrilled you're joining us to explore cutting-edge ideas in education.\"]}, 'Intro2': {'description': \"Introduction of today's topic and brief bio of the guest speaker.\", 'script': ['Today, we dive into a fascinating topic: how Artificial Intelligence is reshaping education.', 'Joining us is Jamie, a technology enthusiast and CEO of an innovative startup focusing on AI applications for learning.']}, 'Points': {'talking_points': {'Personalized Learning': {'discussion': 'Exploring how AI enables tailored educational experiences based on individual student needs.', 'questions': ['How does AI create personalized learning paths for students?', 'What are the examples of tools or systems doing this successfully?'], 'response_hint': 'Discuss specific AI tools, algorithms, and how they adapt content to individual learning styles.'}, 'Automated Grading': {'discussion': 'Discussion on how AI is speeding up grading while reducing educator workload.', 'questions': ['In what ways is AI improving the grading process?', 'Do you see AI impacting teacher-student interactions as grading becomes automated?'], 'response_hint': 'Provide examples of automated grading systems, emphasizing efficiency and teacher benefits.'}, 'Accessibility for Students with Disabilities': {'discussion': 'How AI is enhancing accessibility and helping students with disabilities thrive.', 'questions': ['What types of AI tools are helping students with disabilities?', 'How does AI ensure inclusivity in modern classrooms?'], 'response_hint': 'Highlight tools like speech-to-text software, visual aids, and their positive impact.'}, 'Ethical Concerns and Data Privacy': {'discussion': 'Examining ethical implications, data security, and biases linked to AI in education.', 'questions': ['What are the ethical concerns educators and institutions should consider?', 'How can developers address bias in AI algorithms?'], 'response_hint': 'Discuss issues of consent, secure data storage, and ensuring fair AI use in diverse student populations.'}}}, 'Con': {'description': 'Summary and reflection, leaving listeners with a thoughtful question.', 'script': ['AI is undoubtedly transforming education, bridging gaps and unlocking new potential, but it also demands careful consideration of ethical and operational challenges.', 'What do you think—how should education systems best integrate AI responsibly and equitably?']}}\n"
     ]
    }
   ],
   "source": [
    "print(outline)"
   ]
  },
  {
   "cell_type": "code",
   "execution_count": 93,
   "id": "0d23c4d1",
   "metadata": {},
   "outputs": [],
   "source": [
    "\n",
    "podcast_dialogues = []\n",
    "# Introductions\n",
    "for key in [\"Intro1\", \"Intro2\"]:\n",
    "    \n",
    "    enhanced_intro = enhancer.enhance_section(\n",
    "        key,\n",
    "        \" \".join(outline[key][\"script\"]),\n",
    "        criteria=\"Engaging, energetic, welcoming, and enthusiastic\"\n",
    "    )\n",
    "    podcast_dialogues.append({\"section\": key, \"dialogue\": enhanced_intro})\n",
    "\n",
    "# Main Discussion\n",
    "tp_key = \"Points\"\n",
    "talking_points = outline[tp_key][\"talking_points\"]\n",
    "for tp_title, tp_content in talking_points.items():\n",
    "    section_content = f\"{tp_title}: {tp_content['discussion']} \" + \\\n",
    "                      \" \".join([f\"Q: {q}\" for q in tp_content[\"questions\"]])\n",
    "    spontaneous_dialogue = dialogue_generator.generate_dialogue(\n",
    "        tp_title, section_content, host_persona, guest_persona\n",
    "    )\n",
    "    podcast_dialogues.append({\"section\": tp_title, \"dialogue\": spontaneous_dialogue})\n",
    "# Enhance conclusion\n",
    "conclusion_key = \"Con\"\n",
    "enhanced_conclusion = enhancer.enhance_section(\n",
    "    conclusion_key,\n",
    "    \" \".join(outline[conclusion_key][\"script\"]),\n",
    "    criteria=\"Powerful, thoughtful, reflective, and thought-provoking\"\n",
    ")\n",
    "podcast_dialogues.append({\"section\": conclusion_key, \"dialogue\": enhanced_conclusion})\n"
   ]
  },
  {
   "cell_type": "code",
   "execution_count": 94,
   "id": "6d450d18",
   "metadata": {},
   "outputs": [
    {
     "data": {
      "text/plain": [
       "[{'section': 'Intro1',\n",
       "  'dialogue': '**Podcast Section: Intro1**\\n\\n[Upbeat background music playing]\\n\\nAlex (with energy and excitement): Hello, hello, brilliant minds, and welcome to *Future of Learning*! I’m Alex, your host, and I couldn’t be more thrilled to have you here with me today. Whether you’re driving, taking a coffee break, or just settling in for some inspiration, you’ve landed in the perfect spot to spark your curiosity. \\n\\nGet ready as we dive into the bold, game-changing ideas shaping the future of education — the tools, the trends, and the mindsets redefining how we learn and grow in this fast-evolving world. So buckle up and let’s explore what’s possible together!\\n\\n[Pause for music transition] \\n\\nAlex (enthusiastically): Ready to jump in? Let’s get started!'},\n",
       " {'section': 'Intro2',\n",
       "  'dialogue': '**Podcast Intro2 - Enhanced Script**  \\n\\n[Upbeat background music fades in]  \\n\\n**Host:** \"Hello and welcome, everyone, to another exciting episode of [Podcast Name]! Get ready, because today we’re diving headfirst into a mind-blowing topic that\\'s transforming the way we learn, teach, and think. That’s right—we’re exploring *how Artificial Intelligence is reshaping education!*  \\n\\nIf you’ve ever wondered how AI could revolutionize classrooms, empower teachers, or personalize learning for students, let me tell you: you’re in for a treat! And joining us today is someone who truly knows their stuff. Jamie, a passionate technology enthusiast and the CEO of an innovative startup that’s pushing the boundaries of AI in education, is here to share insights, stories, and some jaw-dropping possibilities for the future.  \\n\\nSo buckle up, folks—this is going to be a conversation that will inspire, inform, and maybe even blow your mind. Let’s jump right in!\"  \\n\\n[Music fades out, transition sound plays]  '},\n",
       " {'section': 'Personalized Learning',\n",
       "  'dialogue': \"**Podcast Dialogue: Personalized Learning**\\n\\n---\\n\\n**Host (Alex):** So, Jamie, let’s dive into something that’s been a game-changer for the education world—personalized learning. You’ve worked a lot with AI in your startup, right? [pause: 2s] I mean, this whole concept of tailoring education to individual student needs—it’s fascinating. \\n\\n**Guest (Jamie):** Oh, absolutely, Alex. It’s—uh—it’s game-changing, like you said. AI’s really… well, it’s like this invisible partner, you know? It can actually analyze how students learn, [pause: 2s] what they struggle with, where they excel. And based on that, it creates these unique learning paths for each student. \\n\\n**Host:** Okay, hold up—[overlap] unique learning paths? Like, we're talking a totally individualized road map?\\n\\n**Guest:** Yeah, exactly! [pause: 1s] Imagine being in a classroom, but instead of following the same curriculum as everyone else, your lessons are optimized for *you*. Like, say, if a student is, um, struggling with fractions but breezing through geometry, the system focuses more on helping with fractions—in real time. It’s wild. <laughter>\\n\\n**Host:** That’s… that’s crazy, but also really cool. [pause: 3s] So how does the AI even *know* this stuff about you? I mean, my teachers barely knew I hated algebra until I bombed like, every test. <laughter>\\n\\n**Guest:** <laughs> Well, that’s the magic. AI’s tracking all the little details—how long you spend on a problem, where you clicked, whether you did better on multiple-choice or open-ended questions. It’s pulling *everything* together. Like—uh—there are systems out there using natural language processing and machine learning. They’re pinpointing things students might not even know about their own learning habits. \\n\\n**Host:** Wow. <pause: 1s> Okay, so tell me, uh… Are there any tools or platforms that already do this stuff? Like, something a teacher today could—could use right off the bat?\\n\\n**Guest:** Oh totally, there are some great ones. Uh, have you heard of platforms like DreamBox or Khan Academy? \\n\\n**Host:** Yeah, yeah! <overlap> Khan—I’ve actually wasted, like, hours watching their videos. Didn’t know it was *this* smart, though.\\n\\n**Guest:** Yeah, so those are already integrating aspects of personalized learning. DreamBox, for example—it’s amazing for math learning. It adapts the lessons based on how a kid is solving problems, speeding up where they’re confident and pausing when they need extra instruction. \\n\\n**Host:** So—wait—how exact is it? I mean, like… does the system ever miss the mark? Or is it pretty spot-on?\\n\\n**Guest:** It’s definitely not perfect yet. [pause: 2s] I mean… we're still figuring out the nuances. But in terms of efficient learning, these tools are leaps and bounds ahead of traditional methods. <hesitation> Like, I think the big challenge right now is balancing tech with the human aspect—keeping teachers involved.\\n\\n**Host:** Right. You know, that makes me wonder… Are teachers cool with it? I mean, some might feel like AI is replacing them. You know, *big robot teacher vibes*! <laughter>\\n\\n**Guest:** <laughs> I get that concern a lot! But it’s really—it’s more of a partnership. AI isn’t replacing teachers, it’s giving them superpowers, basically. Like—uh—imagine having, like, 30 students in a classroom and somehow knowing exactly what each one needs in a day. AI handles the *data crunching*, freeing up teachers to focus on mentoring and connecting.\\n\\n**Host:** Superpowers. Okay, now *that* I can get behind. [pause: 2s] So what do you think is next for this personalized AI journey? Where are we headed? \\n\\n**Guest:** I think we’re heading toward, uh, even more integration. Like, voice assistants that can tutor one-on-one, or immersive VR classrooms where the lessons adjust based on how fast a student learns. Maybe even AI systems predicting future career paths for students based on their progress—wild stuff! \\n\\n**Host:** Oh, here we go with AI predicting my future. Will it tell me I should’ve been a dog trainer instead of a podcast host? [pause: 2s] <laughter>\\n\\n**Guest:** You never know, Alex, you never know. <laughs>\"},\n",
       " {'section': 'Automated Grading',\n",
       "  'dialogue': \"**Host:** So, Jamie, this whole notion of automated grading—it’s been gaining traction lately, huh? I mean, AI is apparently helping educators speed up grading, cutting down those endless hours spent poring over assignments. What’s your take on that? \\n\\n**Guest:** Oh, absolutely, Alex—it’s a game-changer. I mean, just the idea of, uh, teachers not having to *manually* go through dozens, sometimes hundreds of papers… [pause: 2s] it’s—it’s freeing! You hear stories of teachers grading long into the night, right? And now AI is stepping in to *sort of* take that load off.  \\n\\n**Host:** <chuckling> Yeah, totally. I—I remember my high school English teacher once telling us she spent her entire weekend grading essays. Not ideal, right? <laughter> But how exactly is AI helping here? I mean, like, are we talking just multiple-choice exams, or… is it branching into those more subjective, open-response questions too?\\n\\n**Guest:** Oh, it’s doing both—well, sort of. The tech for multiple-choice is already solid—laser-fast. But now AI is working on, like, analyzing more nuanced human responses in essays or short answers. It uses—uh, well, algorithms to look for structure, grammar, even content accuracy, right? It’s not perfect, but it’s evolving quickly. And it’s super useful for giving teachers basic insights without them having to read through every single word of every single paper.\\n\\n**Host:** Okay, okay, but—here's a thought: isn’t there some risk of it being *too* automated? Like, it sounds great to lighten the grading load, but does that affect the student-teacher relationship? I mean, teachers get, y'know, insights about students from their work, don’t they? \\n\\n**Guest:** Ah, great question, Alex—and yeah, it’s a real concern. I think, um… AI could reduce some of that connection if it’s just churning out grades. But—and this is key—it’s all about how the teacher uses the AI feedback. When the system highlights things like recurring grammar issues or patterns in understanding, teachers can actually focus on mentoring instead of just *evaluating.* You know what I mean? [pause: 3s] Like—it’s not about *replacing* the teacher, it’s supporting them.  \\n\\n**Host:** Okay, okay, I see what you’re saying—sort of complementary, not competitive, huh? <pause> But, to play devil’s advocate here for a second, do you think *students* are gonna start thinking, “Oh, my teacher’s not even the one grading my work. It’s just some algorithm.” Like, I dunno, does that change how they perceive feedback?\\n\\n**Guest:** Ooh, yeah, yeah… I can totally see that happening. I think transparency matters there—teachers talking to students about, okay, *how* the AI is being used in their grading process and how it’s not some cold robot just handing out scores. Uh, like, framing the AI as an assistant, not the decision-maker. It’s like saying, “Hey, this thing helped me spot trends, but I’m the one actually looking at your work.”  \\n\\n**Host:** Right! Feels like that personal touch still has to be there. <overlap> \\n\\n**Guest:** It does! Totally. \\n\\n**Host:** Otherwise—it’s just… y'know, super transactional.  \\n\\n**Guest:** Exactly, exactly. And I think, uh—I mean, depending on the school or district, you’ll have teachers adopting it at different levels, like, some just using it for preliminary stuff, others relying more heavily. But hey, one thing it *is* undeniably doing is shrinking the time between submission and feedback. Like, imagine turning in an essay and having constructive feedback in hours instead of weeks.  \\n\\n**Host:** Wow, yeah, that’s—that’s wild. But, like, in a good way. Okay, uh, one more thing before we move on… do you see this AI grading thing expanding? Like, is there a world where it’s *universally* used across schools? Or are we talking more of a “some schools, some systems” type of thing?  \\n\\n**Guest:** Mmm, probably the latter—at least for now. I mean, we’re still ironing out the kinks, like ensuring the AI doesn’t have biases, making it versatile enough for different grading styles. But over time? <pause: 2s> Yeah, I think it’s gonna grow. As budgets allow and as educators get more comfortable with the tech—there’ll definitely be a wider rollout.  \\n\\n**Host:** Gotcha, gotcha. Well, Jamie, this has been super insightful. Automating grading—it’s not just reshaping classrooms; it’s reshaping *time.* Teachers everywhere are probably hoping this—<pause: 1s> hopeful *this* tech keeps advancing fast!  \\n\\n**Guest:** Amen to that! <laughter>  \"},\n",
       " {'section': 'Accessibility for Students with Disabilities',\n",
       "  'dialogue': \"**Podcast Title: Tech Talk with Alex**\\n\\n---\\n\\n**Host: Alex**: Alright, alright—let’s dive into something that I think is not only super important but also personally inspiring. Jamie, we’re talking about accessibility for students with disabilities today, and, wow, this is such... [pause: 2s] an exciting time for tech, isn’t it?  \\n\\n**Guest: Jamie**: Oh, absolutely, Alex. I mean, when you look at how far the field has come in just the last three, maybe five years, it’s... uh, it’s mind-blowing, you know? AI has really changed the game for students with disabilities.  \\n\\n**Host: Alex**: Totally, totally. And—ok, small tangent, but honestly, every time I hear about some cool new AI tool, I’m like, how did the world *not* have this ten years ago? It's like—where was this when I needed help in school? <laughter>  \\n\\n**Guest: Jamie**: Right? Exactly! I mean, I think the same way sometimes. And for students with disabilities, it’s a whole other level. We’re talking tools that enhance communication, make learning more intuitive… even things like, oh—uh, screen readers or predictive text that actually, uh... what’s the word—anticipates? Yeah, anticipates your needs.  \\n\\n**Host: Alex**: Ah, yeah! Screen readers, for sure. But—and maybe I should’ve asked this first—what are we, uh, calling AI tools in this space? Like, are we just throwing them into one bucket, or do they have, I don’t know, special categories?  \\n\\n**Guest: Jamie**: Good question! So, they’re actually categorized by function most of the time. You know, assistive tech versus, um, adaptive tech. [pause: 2s] Assistive is more like helping with a specific limitation—for example, translating text to Braille. And adaptive? It just goes one step further—it actually *learns* from the student’s behavior or preferences over time.  \\n\\n**Host: Alex**: Okay, that adaptive part—it’s kinda blowing my mind right now. You’re saying, like, AI doesn’t just help—it adjusts and *grows* with them?  \\n\\n**Guest: Jamie**: Yeah! Yeah, that’s exactly it. Like personalized assistance that evolves. Uh, you’ve probably heard of platforms that tailor lesson plans for neurodiverse students, right?  \\n\\n**Host: Alex**: Oh, yeah—like, oh, what’s that one program—um, I think I saw it on Twitter... or maybe TikTok? <overlap>  \\n\\n**Guest: Jamie**: <overlap> Oh, you’re probably thinking of TeachAI?  \\n\\n**Host: Alex**: YES! TeachAI! That’s the one. So they actually, like, figure out how each student learns best?  \\n\\n**Guest: Jamie**: Spot on! Like, imagine—[pause: 2s] it’s not just giving them the same worksheet everyone else gets, you know? It’s analyzing patterns, helping them maybe… I don’t know… uh, absorb knowledge through visuals if that’s their sweet spot, or breaking down concepts into simpler language if that’s what resonates.  \\n\\n**Host: Alex**: Right—because one size fits all hasn’t really worked in education, has it? And now AI is kinda proving that, yeah?  \\n\\n**Guest: Jamie**: Exactly. And, honestly, one of the coolest things, for me at least, is the inclusivity it’s driving in modern classrooms.  \\n\\n**Host: Alex**: Ooh, okay—say more about that. So how does AI make classrooms more, uh, inclusive? Like, big picture kinda stuff.  \\n\\n**Guest: Jamie**: Sure! So first, it’s bridging communication gaps. For example, speech recognition tools are huge for students with speech impairments. Uh, another example—there’s tech that converts real-time speech to text for hearing-impaired kids during lectures. Stuff like that removes these barriers that have kinda been… <hesitation> almost impossible to tackle traditionally.  \\n\\n**Host: Alex**: That’s incredible. It’s just giving people, ah, I guess—more ways to participate, right? Like, truly *participate*.\\n\\n**Guest: Jamie**: Exactly! And, uh, one last thing—I know I’m geeking out a bit here but bear with me—there are tools now that even help educators fine-tune their teaching, making sure *they’re* inclusive to all learning types.  \\n\\n**Host: Alex**: Oh wow. That just—I mean—it completely shifts the dynamic, doesn’t it? [pause: 3s] Like, instead of making students fit the old-school mold, it’s adapting the mold to fit the student.  \\n\\n**Guest: Jamie**: Couldn’t have said it better myself. And honestly, Alex, isn’t that kinda the dream for education?  \\n\\n**Host: Alex**: Ha, yeah—*finally*! Look, Jamie, I could talk about this for hours—but we’re gonna take a quick break here, and when we come back, I wanna dig into how *your* startup is pushing boundaries with all this tech. Sound good?  \\n\\n**Guest: Jamie**: Oh, absolutely. Can’t wait.  \\n\\n**Host: Alex**: Awesome. Stay with us, folks—this is *Tech Talk with Alex*.  \\n\\n---\"},\n",
       " {'section': 'Ethical Concerns and Data Privacy',\n",
       "  'dialogue': '**[Podcast: Ethical Implications in AI for Education]**\\n\\n---\\n\\n**Host: Alex:** Alright, Jamie, so let’s dive into a topic that’s—I mean—it’s just everywhere when we talk about AI: ethical concerns and data privacy. It’s a *big* one. [pause: 2s] You know, there’s all this buzz about AI transforming education, but there’s also that... kinda nagging question at the back of everyone’s mind: are we doing it responsibly? \\n\\n**Guest: Jamie:** *Oh, absolutely*. Yeah, it’s... it’s one of those things, Alex, where the technology is just moving so fast, right? Faster than we can process sometimes. And you’re spot on—ethical concerns and privacy can’t be an afterthought. They have to be baked into every step of development... because once you’re handling people’s data—especially *kids’* data—you’re in a completely different realm.\\n\\n**Host: Alex:** Totally, yeah. And I guess for educators and schools, it’s like... there’s this balancing act they have to pull off, right? [pause: 3s] You want the benefits AI can bring, but then you’re also dealing with questions like: \"Is the data secure? Who has access to it?\"\\n\\n**Guest: Jamie:** Oh, for sure, that’s the million-dollar question. And the thing is, a lot of institutions—uh, I think they mean well—but sometimes they don’t fully understand the *scope* of what’s involved. Like, beyond just keeping the data safe, there’s the question of *how* that data is being used, right? And whether it’s reinforcing biases in ways we don’t even realize. \\n\\n**Host: Alex:** Yeah, let’s talk about bias for a second because—uh, okay—[pause: 2s] AI is only as good as the data it\\'s trained on, right? And if that data has biases in it, well... guess what? [laughs] You’ve now got a biased AI.\\n\\n**Guest: Jamie:** Exactly! Yeah, exactly. It’s the classic “garbage in, garbage out” problem. I mean, you’ve got some AI tools that are impacting decisions about, say, which students might need additional resources or even how they’re assessed... and if the algorithm’s skewed, that’s a real issue.  \\n\\n**Host: Alex:** *Right, right.* And it feels like we’re in this weird spot where educators don’t always know *how* to spot those biases—or, like even—whether those biases *exist* in the first place. [pause: 2s] I mean, what’s the solution? Is it just—uh—is it on the developers to fix this?\\n\\n**Guest: Jamie:** Well, I think... it *is* partly on developers, yeah. Like, the first step is being super intentional about sourcing diverse datasets. [pause: 2s] And when I say diverse, I mean *really* diverse—not just checking a few boxes. But even beyond that, industry standards need to catch up too. You can’t just say, “Oh, don’t worry—our AI is unbiased.” [pause: 1s] No, you need transparency. People should look at the testing methods and know, “Okay, this tool is actually rigorous and fair.”\\n\\n**Host: Alex:** Oh, totally. I feel like there’s also—uh—just this need for awareness, right? Educators might say, “Well, *we* don’t control the algorithms; we just use the tech.” But they can still advocate for more accountability from tech companies.\\n\\n**Guest: Jamie:** Absolutely, yeah! They can—and honestly, they *should*. I mean, they’re the ones who are directly impacted if something goes wrong. And the more pressure they put on developers, the better. That could be asking questions when choosing tech, like, \"Hey, how did you test for bias in this AI? Can we see the results?\" \\n\\n**Host: Alex:** *Exactly,* Jamie—it’s kinda like being an active participant in your own ecosystem, you know? Schools don’t have to just shrug and accept AI as-is. [pause: 1s] Okay, here’s one more thing—I have to ask this because it’s an eternal, ongoing debate: does regulation help or hurt here?\\n\\n**Guest: Jamie:** Oh, man, regulation... [pause: 3s] It’s tricky because sometimes regulation *does* slow innovation. But at the same time, when it comes to something as sensitive as kids’ education data... *yeah,* I think it’s better to have clear guardrails than just let everyone do their own thing. Regulation isn’t anti-innovation—it’s pro-safety.\\n\\n**Host: Alex:** Hmm, *that’s interesting*. So maybe education teams *and* developers need to work together to find those middle grounds—where innovation can thrive but it’s not just this Wild West where anything goes. \\n\\n**Guest: Jamie:** *Exactly,* Alex. It’s collaboration. I mean, when tech folks actually sit down with educators—listen to their *real* concerns—things start to shift. That’s where the magic happens. Collaboration breeds responsibility, and responsibility keeps things ethical. \\n\\n**Host: Alex:** Well, I think—we can agree—it’s complicated but doable. And, uh, Jamie, we’ve just barely scratched the surface here... but wow. That was eye-opening. \\n\\n**Guest: Jamie:** Same here! [laughs] You made me think about a few things. \\n\\n**Host: Alex:** *Always* happy to make you do that! Stick around, folks—up next, we\\'ll be tackling how to empower educators to use AI effectively without turning into full-time tech experts. Stay tuned! \\n\\n**Guest: Jamie:** Sounds like a fun one! Thanks, Alex.'},\n",
       " {'section': 'Con',\n",
       "  'dialogue': \"**Podcast Script: Con**  \\n**Title:** The Double-Edged Sword of AI in Education  \\n\\n[Host Speaking]  \\n\\nAI is undeniably reshaping the landscape of education, breaking down barriers, connecting minds across distances, and opening the doors to possibilities once unimaginable. Its promise is compelling—a vision of tailored learning experiences, universal access to knowledge, and a future where every student can thrive.  \\n\\nBut as we marvel at its potential, isn’t it important to pause and reflect? For all its promise, AI also brings profound ethical and operational questions to the forefront. Who defines the values it upholds when making decisions for learners? How do we ensure biases don't inadvertently seep into AI systems, perpetuating inequities instead of dismantling them? And what happens to the human touch—the empathy and intuition—when algorithms take the driver's seat in education?  \\n\\nThe truth is, these aren’t questions with simple answers. They demand soul-searching, vigilance, and dialogue. Because integrating AI into education isn’t just a technological challenge—it’s a moral and societal one.  \\n\\nWhat kind of world will we leave for future generations if we fail to approach this integration thoughtfully? Will AI simply widen existing divides, or can it be the great equalizer we hope it could be?  \\n\\nSo, I ask you today: What role should AI truly play in shaping how we educate our children? How do we build systems that don’t just serve the privileged few but provide equitable, transformative opportunities for all? And how do we balance the power of innovation with the responsibility to honor humanity at the heart of learning?  \\n\\nThese questions call on all of us—parents, educators, technologists, policymakers—to rise to the occasion. The decisions we make now will echo for decades to come.  \\n\\nLet’s not be swept away by the allure of progress without first considering its weight. Together, let’s envision a future that doesn’t merely integrate AI, but does so responsibly, justly, and thoughtfully. Because when it comes to education, we’re not just deploying algorithms—we’re shaping minds. What kind of minds, and what kind of futures, are we hoping to create?  \\n\\n\"}]"
      ]
     },
     "execution_count": 94,
     "metadata": {},
     "output_type": "execute_result"
    }
   ],
   "source": [
    "podcast_dialogues"
   ]
  },
  {
   "cell_type": "code",
   "execution_count": 95,
   "id": "ba1adba6",
   "metadata": {},
   "outputs": [],
   "source": [
    "def modify_dialogues_by_persona(dialogues, persona_criteria):\n",
    "    modified_dialogues = []\n",
    "    all_dialogues=[]\n",
    "    for dialogue in dialogues:\n",
    "        all_dialogues.extend(dialogue['dialogue'])\n",
    "        \n",
    "    modified_dialogues = enhancer.enhance_section(\n",
    "        \"Overall Podcast\",\n",
    "        all_dialogues,\n",
    "        criteria=persona_criteria\n",
    "    )\n",
    "    return modified_dialogues\n",
    "\n",
    "def save_podcast_to_json(self, podcast, filename=\"podcast.json\"):\n",
    "    with open(filename, 'w') as f:\n",
    "        json.dump(podcast, f, indent=4)"
   ]
  },
  {
   "cell_type": "code",
   "execution_count": 96,
   "id": "5198ef28",
   "metadata": {},
   "outputs": [],
   "source": [
    "modified_podcast = modify_dialogues_by_persona(podcast_dialogues, \"Conversational, friendly, and engaging\")\n"
   ]
  },
  {
   "cell_type": "code",
   "execution_count": 97,
   "id": "572b7c64",
   "metadata": {},
   "outputs": [
    {
     "data": {
      "text/plain": [
       "\"### **Podcast Title: The Future of Learning with Alex**\\n\\n**[Upbeat background music fades in]**\\n\\n**Alex (with energy and excitement):**  \\nHello, hello, brilliant minds! Welcome to *The Future of Learning*, where we explore ideas shaping the way we learn and grow in this fast-evolving world. I’m Alex, your host, and let me tell you—today’s episode is going to spark your curiosity and electrify your thoughts!  \\n\\nWhether you’re driving, enjoying a coffee break, or cozied up while seeking inspiration, you’re in the right place. Together, we’ll explore game-changing ideas defining education’s future—tools, trends, and mindsets transforming how we learn. So buckle up—this is going to be a ride like no other!  \\n\\n**[Pause for music transition]**\\n\\n**Alex (enthusiastically):**  \\nReady to jump in? Let’s get started!  \\n\\n---\\n\\n### **Podcast Dialogue: Personalized Learning with AI**\\n\\n**Alex:**  \\nAlright, Jamie, let’s kick off by talking about something that’s been changing the game in education—personalized learning! You’ve worked extensively with AI in your startup, right?  \\n\\n**Jamie (laughing):**  \\nAbsolutely, Alex! Personalized learning through AI is revolutionary. It's like having an invisible teaching partner—an incredible system that analyzes how students learn best, where they excel, and where they struggle. Then, boom—it builds a learning path tailored for each student!  \\n\\n**Alex (intrigued):**  \\nHold up—did you say *unique learning paths*? Are we talking about a roadmap that’s customized for every single student?  \\n\\n**Jamie (nodding):**  \\nExactly! Picture this: a student struggling with fractions but breezing through geometry gets real-time help focused on fractions. Or if visuals click more than text, the system adapts to use diagrams and videos. It’s wild!  \\n\\n**Alex:**  \\nThat’s… crazy, but also seriously cool. So tell me—how does AI even *know* this stuff? I mean, I remember my teachers barely figuring out I hated algebra until I bombed my tests.  \\n\\n**Jamie (laughing):**  \\nSame here! But here’s the magic: AI tracks everything—time spent solving problems, patterns in mistakes, even whether kids do better with multiple-choice or open-ended questions. It’s pulling all these tiny clues together to find what students need most.  \\n\\n**Alex:**  \\nWow. Okay, so are there tools available now that teachers can start using, like right out of the box?  \\n\\n**Jamie:**  \\nTotally! Platforms like *DreamBox* and *Khan Academy* are already integrating aspects of personalized learning. For instance, DreamBox adjusts math lessons based on how kids solve problems—speeding through strong areas and pausing for areas that need extra focus.  \\n\\n**Alex:**  \\nAmazing! But I’m curious—how accurate is this? Do AI systems ever miss the mark or get it wrong?  \\n\\n**Jamie:**  \\nThey’re not perfect yet. There’s still room to refine the nuances. But overall, efficiency is leaps and bounds ahead of traditional methods. And honestly, striking that balance between human intuition and tech-driven data will be key.  \\n\\n**Alex:**  \\nRight. That makes me wonder—how are teachers reacting to this? Do some feel like AI could replace them?  \\n\\n**Jamie (laughing):**  \\nOh, I hear that concern all the time! But here’s the truth—AI isn’t replacing teachers; it’s giving them superpowers. It handles the *data crunching*, freeing teachers to focus on mentoring and building meaningful connections.  \\n\\n**Alex:**  \\nSuperpowers—I love it! Now *that*, I can get behind. So Jamie, where do you think personalized AI is headed next?  \\n\\n**Jamie:**  \\nThe future is *immersive*! Think one-on-one voice assistants tutoring students or VR classrooms that adjust lessons dynamically based on each student’s pace. Or even AI predicting career paths based on student progress. It’s wild—we’re just scratching the surface!  \\n\\n**Alex (laughing):**  \\nOkay, I need AI to tell me if I should’ve been a dog trainer instead of a podcast host!  \\n\\n**Jamie (laughing):**  \\nYou’d ace it, Alex—you never know!  \\n\\n---\\n\\n### **Podcast Segment: Ethical Implications in AI**\\n\\n**Alex (reflective):**  \\nAlright, Jamie, let’s switch gears for a moment. AI’s promise in education is incredible, but we’d be remiss not to talk about ethical concerns. Are we doing it responsibly? How do we ensure data privacy, especially for kids?  \\n\\n**Jamie:**  \\nYou’re spot on, Alex. Ethical concerns and privacy can’t be afterthoughts; they must be baked into every stage of AI development. Anytime we’re handling sensitive data—especially kids’ data—we're playing in a completely different realm.  \\n\\n**Alex:**  \\nExactly. And educators are balancing the excitement AI brings with questions like: Is the data secure? Who has access to it? How do we ensure biases don’t creep in?  \\n\\n**Jamie:**  \\nYes! That’s the million-dollar question. Institutions mean well, but I think they sometimes underestimate the scope of responsibility. Beyond safety, we need transparency—how is the data used? Are algorithms inadvertently perpetuating biases?  \\n\\n**Alex:**  \\nRight! Because if the data has biases, we’ve got a biased AI, and the ripple effects could be enormous!  \\n\\n**Jamie:**  \\nExactly. Garbage in, garbage out—it’s classic. We need industry standards that catch up and demand rigorous testing methods. Schools shouldn’t just accept AI as-is—they should push developers for accountability.  \\n\\n---\\n\\n### **Closing Segment: Collaboration for Progress**\\n\\n**Alex:**  \\nJamie, you’ve touched on so many critical points about improving education responsibly. Collaboration seems key here—getting tech developers to truly listen to educators and prioritize ethical practices.  \\n\\n**Jamie:**  \\nAbsolutely, Alex. Collaboration breeds responsibility, and responsibility keeps things ethical. When tech folks and educators share the table, that’s when the magic *really* happens.  \\n\\n**Alex:**  \\nWell, Jamie, this has been eye-opening—seriously. We’ve just scratched the surface, but wow, what a conversation!  \\n\\n**Jamie:**  \\nSame here! You’ve made me think about a lot of things, Alex—thank you for that.  \\n\\n**Alex:**  \\nAlways happy to geek out with you! Alright, folks—up next, we’ll dive into how educators can empower themselves to use AI effectively without turning into full-time tech experts. Stick around for more right here on *The Future of Learning*!  \\n\\n**Jamie:**  \\nSounds like fun—thanks, Alex!  \\n\\n**[Outro music fades in]**\\n\\n---  \\n\\nEngaging in conversations around innovation is exciting—but it’s collaboration, responsibility, and thoughtful ethics that will shape the future we want. Stay tuned for more on *The Future of Learning*!  \""
      ]
     },
     "execution_count": 97,
     "metadata": {},
     "output_type": "execute_result"
    }
   ],
   "source": [
    "modified_podcast"
   ]
  },
  {
   "cell_type": "code",
   "execution_count": null,
   "id": "1a6ef360",
   "metadata": {},
   "outputs": [],
   "source": []
  }
 ],
 "metadata": {
  "kernelspec": {
   "display_name": "Python 3",
   "language": "python",
   "name": "python3"
  },
  "language_info": {
   "codemirror_mode": {
    "name": "ipython",
    "version": 3
   },
   "file_extension": ".py",
   "mimetype": "text/x-python",
   "name": "python",
   "nbconvert_exporter": "python",
   "pygments_lexer": "ipython3",
   "version": "3.13.1"
  }
 },
 "nbformat": 4,
 "nbformat_minor": 5
}
