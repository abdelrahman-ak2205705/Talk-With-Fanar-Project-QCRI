{
 "cells": [
  {
   "cell_type": "code",
   "execution_count": 1,
   "id": "76e5796a",
   "metadata": {},
   "outputs": [],
   "source": [
    "import os, sys\n",
    "# import openai\n",
    "from openai import AzureOpenAI\n",
    "# !pip install python-dotenv\n",
    "from dotenv import load_dotenv\n",
    "import json\n",
    "from openai import OpenAI"
   ]
  },
  {
   "cell_type": "code",
   "execution_count": null,
   "id": "3174aa88",
   "metadata": {},
   "outputs": [],
   "source": [
    "def APIKeyManager(model_type, key_path):\n",
    "    \n",
    "    load_dotenv(dotenv_path=key_path, override=True)\n",
    "    if model_type=='azure':\n",
    "        client = AzureOpenAI(\n",
    "            api_version=os.environ[\"AZURE_API_VERSION\"],\n",
    "            azure_endpoint=os.environ[\"AZURE_OPENAI_ENDPOINT\"],\n",
    "            api_key=os.environ[\"AZURE_API_KEY\"],\n",
    "        )\n",
    "        return client\n",
    "    elif model_type=='fanar':\n",
    "        client = OpenAI(\n",
    "            base_url = \"https://api.fanar.qa/v1\",\n",
    "            api_key  = os.environ[\"FANAR_API_KEY\"],\n",
    "        )\n",
    "        client.default_params = {\"model\": \"Fanar-C-1-8.7B\"}    \n",
    "    elif model_type=='gemini':\n",
    "        pass\n",
    "    return client\n",
    "\n",
    "# Load environment variables\n",
    "model_type=\"azure\"\n",
    "deployment = APIKeyManager(model_type, \"./azure.env\")\n"
   ]
  },
  {
   "cell_type": "code",
   "execution_count": null,
   "id": "08a84582",
   "metadata": {},
   "outputs": [],
   "source": [
    "class PodcastOutlineGenerator:\n",
    "    def __init__(self, deployment, model=\"gpt-4o\"):\n",
    "        self.model = model\n",
    "\n",
    "    def generate_outline(self, topic, information,host_persona, guest_persona,):\n",
    "        prompt = f\"\"\"\n",
    "You are tasked with creating a clear and engaging structured outline for a podcast episode on the topic: '{topic}'.\n",
    "\n",
    "Use the following personas clearly:\n",
    "- Host: '{host_persona}'\n",
    "- Guest: '{guest_persona}'\n",
    "\n",
    "Base your outline on this provided information:\n",
    "{information}\n",
    "\n",
    "Organize your outline strictly in the following JSON format, using these exact keys:\n",
    "\n",
    "{{\n",
    "    \"Intro1\": {{\n",
    "        \"description\": \"Brief overview of the podcast and general welcome from the host.\",\n",
    "        \"script\": [\"Engaging and enthusiastic introduction by the host.\"]\n",
    "    }},\n",
    "    \"Intro2\": {{\n",
    "        \"description\": \"Introduction of today's topic and brief bio of the guest speaker.\",\n",
    "        \"script\": [\"Introduction to topic by host.\", \"Warm welcome and brief guest introduction.\"]\n",
    "    }},\n",
    "    \"Points\": {{\n",
    "        \"talking_points\": {{\n",
    "            \"Point Title 1\": {{\n",
    "                \"discussion\": \"Brief discussion of talking point.\",\n",
    "                \"questions\": [\n",
    "                    \"Relevant question 1?\",\n",
    "                    \"Relevant question 2?\"\n",
    "                ],\n",
    "                \"response_hint\": \"Brief guidance on the desired guest response.\"\n",
    "            }},\n",
    "            \"... Additional points as appropriate ...\"\n",
    "        }}\n",
    "    }},\n",
    "    \"Con\": {{\n",
    "        \"description\": \"Summary and reflection, leaving listeners with a thoughtful question.\",\n",
    "        \"script\": [\"Powerful summary statement.\", \"Thought-provoking closing question for the audience.\"]\n",
    "    }}\n",
    "}}\n",
    "\n",
    "Return only valid JSON adhering strictly to this structure without additional explanatory text.\n",
    "Just return the output in json format without any seperate markers\n",
    "\"\"\"\n",
    "        response = deployment.chat.completions.create(\n",
    "            model=self.model,\n",
    "            messages=[\n",
    "                {\"role\": \"system\", \"content\": \"You are a skilled podcast content planner.\"},\n",
    "                {\"role\": \"user\", \"content\": prompt}\n",
    "            ]\n",
    "        )\n",
    "        return response.choices[0].message.content\n"
   ]
  },
  {
   "cell_type": "code",
   "execution_count": null,
   "id": "f1ab6ebe",
   "metadata": {},
   "outputs": [],
   "source": [
    "outline_generator = PodcastOutlineGenerator (deployment,\"fanar\")\n"
   ]
  },
  {
   "cell_type": "code",
   "execution_count": 5,
   "id": "d98d4983",
   "metadata": {},
   "outputs": [
    {
     "name": "stdout",
     "output_type": "stream",
     "text": [
      "Generated Outline:\n",
      " {\n",
      "    \"Intro1\": {\n",
      "        \"description\": \"Brief overview of the podcast and general welcome from the host.\",\n",
      "        \"script\": [\"Welcome to the podcast! I'm Alex, and I’m thrilled to bring you engaging discussions on relevant topics in education.\"]\n",
      "    },\n",
      "    \"Intro2\": {\n",
      "        \"description\": \"Introduction of today's topic and brief bio of the guest speaker.\",\n",
      "        \"script\": [\"Today, we’re discussing a groundbreaking topic: AI in Education—how technology is reshaping classrooms and paving the way for new possibilities.\", \"Joining us is Jamie, a technology enthusiast and the CEO of an innovative startup specializing in AI solutions for learning.\"]\n",
      "    },\n",
      "    \"Points\": {\n",
      "        \"talking_points\": {\n",
      "            \"Point Title 1\": {\n",
      "                \"discussion\": \"How AI is personalizing learning experiences for students.\",\n",
      "                \"questions\": [\n",
      "                    \"How does AI adapt to different student learning styles?\",\n",
      "                    \"Could you give examples of tools or platforms excelling in personalized learning?\"\n",
      "                ],\n",
      "                \"response_hint\": \"Jamie could highlight adaptive learning systems like intelligent tutoring platforms and their impact.\"\n",
      "            },\n",
      "            \"Point Title 2\": {\n",
      "                \"discussion\": \"Automated grading and its efficiency for educators.\",\n",
      "                \"questions\": [\n",
      "                    \"How does AI help streamline the grading process?\",\n",
      "                    \"Do you think automated grading tools are accurate enough to replace human assessment?\"\n",
      "                ],\n",
      "                \"response_hint\": \"Jamie might emphasize time-saving benefits and AI's progress in evaluating essays and tests.\"\n",
      "            },\n",
      "            \"Point Title 3\": {\n",
      "                \"discussion\": \"AI making education more accessible for students with disabilities.\",\n",
      "                \"questions\": [\n",
      "                    \"What are some ways AI supports students with disabilities?\",\n",
      "                    \"What advances do you foresee within this area in the future?\"\n",
      "                ],\n",
      "                \"response_hint\": \"Jamie could share examples like voice recognition tools and adaptive learning interfaces for differently-abled students.\"\n",
      "            },\n",
      "            \"Point Title 4\": {\n",
      "                \"discussion\": \"Ethical concerns and challenges with AI in education.\",\n",
      "                \"questions\": [\n",
      "                    \"What ethical concerns should educators and developers address regarding AI?\",\n",
      "                    \"How can we ensure AI algorithms are free of bias and respect data privacy?\"\n",
      "                ],\n",
      "                \"response_hint\": \"Jamie might discuss the importance of ethical AI design, accountability, and responsible data practice.\"\n",
      "            }\n",
      "        }\n",
      "    },\n",
      "    \"Con\": {\n",
      "        \"description\": \"Summary and reflection, leaving listeners with a thoughtful question.\",\n",
      "        \"script\": [\"As we've seen, AI holds incredible promise in transforming education, but it also raises important questions about equity, ethics, and long-term impacts.\", \"What role do you think schools and educators should play in ensuring AI’s responsible integration in classrooms?\"]\n",
      "    }\n",
      "}\n"
     ]
    }
   ],
   "source": [
    "# import PodcastOutlineGenerator\n",
    "topic = \"AI in Education\"\n",
    "information = (\n",
    "    \"AI is transforming education through personalized learning, automated grading, intelligent tutoring systems, \"\n",
    "    \"and providing accessibility for students with disabilities. Challenges include ethical concerns, data privacy, \"\n",
    "    \"and potential biases in algorithms.\"\n",
    ")\n",
    "host_persona = \"Alex, an experienced educator\"\n",
    "guest_persona = \"Jamie, a technology enthusiast and CEO of a startup\"\n",
    "\n",
    "outline_text = outline_generator.generate_outline(topic, information, host_persona, guest_persona)\n",
    "print(\"Generated Outline:\\n\", outline_text)\n",
    "# podcast_creator = PodcastCreator(topic, information, host_persona, guest_persona)\n",
    "\n",
    "\n"
   ]
  },
  {
   "cell_type": "code",
   "execution_count": 6,
   "id": "cece3b0f",
   "metadata": {},
   "outputs": [],
   "source": [
    "\n",
    "class DialogueEnhancer:\n",
    "    def __init__(self, deployment,model=\"gpt-4o\"):\n",
    "        self.model = model\n",
    "\n",
    "    def enhance_section(self, section_name, content, criteria, style_example=None):\n",
    "        if style_example:\n",
    "            prompt = (\n",
    "                f\"\"\"Here is an example of the dialogue style you should follow:\\n{style_example}\\n\\n\"\n",
    "                Given the following podcast section, modify it based on the following criteria: {criteria}\n",
    "\n",
    "                Section: {section_name}\n",
    "                Content: {content}\n",
    "\n",
    "                Provide a compelling and engaging script.\"\"\"\n",
    "            )\n",
    "        else:\n",
    "            prompt = (\n",
    "                f\"\"\"Given the following podcast section, modify it based on the following criteria: {criteria}\n",
    "\n",
    "                Section: {section_name}\n",
    "                Content: {content}\n",
    "\n",
    "                Provide a compelling and engaging script.\"\"\"\n",
    "            )\n",
    "        response = deployment.chat.completions.create(\n",
    "            model=self.model,\n",
    "            messages=[\n",
    "                {\"role\": \"system\", \"content\": \"You are a professional podcast scriptwriter.\"},\n",
    "                {\"role\": \"user\", \"content\": prompt}\n",
    "            ]\n",
    "        )\n",
    "        return response.choices[0].message.content\n"
   ]
  },
  {
   "cell_type": "code",
   "execution_count": 7,
   "id": "a07febcf",
   "metadata": {},
   "outputs": [],
   "source": [
    "class SpontaneousDialogueGenerator:\n",
    "    def __init__(self, deployment, model=\"gpt-4o\"):\n",
    "        self.model = model\n",
    "    def generate_dialogue(self, section, section_content, host_persona, guest_persona, style_example=None):\n",
    "        if style_example:\n",
    "            prompt = (\n",
    "                f\"\"\"Here is an example of the dialogue style you should follow:\\n{style_example}\\n\\n\"\n",
    "                f\"Now, transform the following podcast section into a spontaneous dialogue between host {host_persona} and guest {guest_persona}, naturally including conversational fillers, pauses with possible duration in brackets [pause: 2s], and interaction tags like <laughter>, <overlap>, <interruption>, <hesitations>.\\n\\n\"\n",
    "                f\"Section: {section}\\nContent: {section_content}\"\"\"\n",
    "            )\n",
    "        else:\n",
    "            prompt = (\n",
    "                f\"\"\"Transform the following structured podcast section into a spontaneous dialogue between a host named {host_persona} and a guest named {guest_persona}, naturally including conversational fillers, pauses with possible duration in brackets [pause: 2s], and interaction tags.\n",
    "\n",
    "                Section: {section}\n",
    "                Content: {section_content}\n",
    "\n",
    "                Include conversational tags like <laughter>, <overlap>, <interruption>, <hesitations> naturally.\"\"\"\n",
    "            )\n",
    "        response = deployment.chat.completions.create(\n",
    "            model=self.model,\n",
    "            messages=[\n",
    "                {\"role\": \"system\", \"content\": \"You are an expert at writing spontaneous and realistic podcast dialogues.\"},\n",
    "                {\"role\": \"user\", \"content\": prompt}\n",
    "            ]\n",
    "        )\n",
    "        return response.choices[0].message.content\n",
    "\n",
    "\n",
    "    def generate_dialogue_zeroshot(self, section, section_content, host_persona, guest_persona):\n",
    "        prompt = (\n",
    "            f\"\"\"Transform the following structured podcast section into a spontaneous dialogue between a host named {host_persona} and a guest named {guest_persona}, naturally including conversational fillers, pauses with possible duration in brackets [pause: 2s], and interaction tags.\n",
    "            \n",
    "            Section: {section}\n",
    "            Content: {section_content}\n",
    "            \n",
    "            Include conversational tags like <laughter>, <overlap>, <interruption>, <hesitations> naturally and also include speaker identification like Host:<utt>, Guest: <utt>.\n",
    "            \"\"\"\n",
    "        )\n",
    "        response = deployment.chat.completions.create(\n",
    "            model=self.model,\n",
    "            messages=[\n",
    "                {\"role\": \"system\", \"content\": \"You are an expert at writing spontaneous and realistic podcast dialogues.\"},\n",
    "                {\"role\": \"user\", \"content\": prompt}\n",
    "            ]\n",
    "        )\n",
    "        return response.choices[0].message.content"
   ]
  },
  {
   "cell_type": "code",
   "execution_count": null,
   "id": "7af4c7a6",
   "metadata": {},
   "outputs": [],
   "source": [
    "dialogue_generator=SpontaneousDialogueGenerator(deployment,\"fanar\")\n",
    "enhancer=DialogueEnhancer(deployment,\"fanar\")"
   ]
  },
  {
   "cell_type": "code",
   "execution_count": 9,
   "id": "77df62fa",
   "metadata": {},
   "outputs": [],
   "source": [
    "outline = json.loads(outline_text)"
   ]
  },
  {
   "cell_type": "code",
   "execution_count": 10,
   "id": "47b39453",
   "metadata": {},
   "outputs": [
    {
     "name": "stdout",
     "output_type": "stream",
     "text": [
      "{'Intro1': {'description': 'Brief overview of the podcast and general welcome from the host.', 'script': [\"Welcome to the podcast! I'm Alex, and I’m thrilled to bring you engaging discussions on relevant topics in education.\"]}, 'Intro2': {'description': \"Introduction of today's topic and brief bio of the guest speaker.\", 'script': ['Today, we’re discussing a groundbreaking topic: AI in Education—how technology is reshaping classrooms and paving the way for new possibilities.', 'Joining us is Jamie, a technology enthusiast and the CEO of an innovative startup specializing in AI solutions for learning.']}, 'Points': {'talking_points': {'Point Title 1': {'discussion': 'How AI is personalizing learning experiences for students.', 'questions': ['How does AI adapt to different student learning styles?', 'Could you give examples of tools or platforms excelling in personalized learning?'], 'response_hint': 'Jamie could highlight adaptive learning systems like intelligent tutoring platforms and their impact.'}, 'Point Title 2': {'discussion': 'Automated grading and its efficiency for educators.', 'questions': ['How does AI help streamline the grading process?', 'Do you think automated grading tools are accurate enough to replace human assessment?'], 'response_hint': \"Jamie might emphasize time-saving benefits and AI's progress in evaluating essays and tests.\"}, 'Point Title 3': {'discussion': 'AI making education more accessible for students with disabilities.', 'questions': ['What are some ways AI supports students with disabilities?', 'What advances do you foresee within this area in the future?'], 'response_hint': 'Jamie could share examples like voice recognition tools and adaptive learning interfaces for differently-abled students.'}, 'Point Title 4': {'discussion': 'Ethical concerns and challenges with AI in education.', 'questions': ['What ethical concerns should educators and developers address regarding AI?', 'How can we ensure AI algorithms are free of bias and respect data privacy?'], 'response_hint': 'Jamie might discuss the importance of ethical AI design, accountability, and responsible data practice.'}}}, 'Con': {'description': 'Summary and reflection, leaving listeners with a thoughtful question.', 'script': [\"As we've seen, AI holds incredible promise in transforming education, but it also raises important questions about equity, ethics, and long-term impacts.\", 'What role do you think schools and educators should play in ensuring AI’s responsible integration in classrooms?']}}\n"
     ]
    }
   ],
   "source": [
    "print(outline)"
   ]
  },
  {
   "cell_type": "code",
   "execution_count": 11,
   "id": "ae7dd168",
   "metadata": {},
   "outputs": [],
   "source": [
    "dialogue_styles = {\n",
    "    \"formal\": {\n",
    "        \"host\": \"Good afternoon, Dr. Patel. Thank you for joining us to discuss the implications of artificial intelligence in public policy.\",\n",
    "        \"guest\": \"Good afternoon, and thank you for the invitation. It’s a pleasure to contribute to this critical conversation.\"\n",
    "    },\n",
    "    \"casual\": {\n",
    "        \"host\": \"Hey, Alex! Great to have you on the show. We’ve got a lot to unpack about social media trends today.\",\n",
    "        \"guest\": \"Hey! Super excited to be here. Let’s dive in!\"\n",
    "    },\n",
    "    \"humorous\": {\n",
    "        \"host\": \"Welcome back, folks! Today we’re talking AI—yup, the thing that might steal your job, but can’t steal your coffee. Yet.\",\n",
    "        \"guest\": \"Unless it learns how to queue at Starbucks, I think we’re safe—for now!\"\n",
    "    },\n",
    "    \"educational\": {\n",
    "        \"host\": \"Can you break down what ‘machine learning’ actually means, for listeners who might be new to the concept?\",\n",
    "        \"guest\": \"Of course! Simply put, machine learning is a way for computers to learn patterns from data, kind of like how humans learn from experience.\"\n",
    "    },\n",
    "    \"inspirational\": {\n",
    "        \"host\": \"You’ve overcome major obstacles to lead groundbreaking research. What kept you going through the toughest times?\",\n",
    "        \"guest\": \"Honestly, the belief that what we’re building could change lives. That purpose kept me focused.\"\n",
    "    }\n",
    "}"
   ]
  },
  {
   "cell_type": "code",
   "execution_count": 12,
   "id": "0d23c4d1",
   "metadata": {},
   "outputs": [],
   "source": [
    "style_examples_dialogues=dialogue_styles['inspirational']\n",
    "podcast_dialogues = []\n",
    "# Introductions\n",
    "for key in [\"Intro1\", \"Intro2\"]:\n",
    "    enhanced_intro = enhancer.enhance_section(\n",
    "        key,\n",
    "        \" \".join(outline[key][\"script\"]),\n",
    "        criteria=\"Engaging, energetic, welcoming, and enthusiastic\"\n",
    "    )\n",
    "    podcast_dialogues.append({\"section\": key, \"dialogue\": enhanced_intro})\n",
    "\n",
    "# Main Discussion\n",
    "tp_key = \"Points\"\n",
    "talking_points = outline[tp_key][\"talking_points\"]\n",
    "for tp_title, tp_content in talking_points.items():\n",
    "    section_content = f\"{tp_title}: {tp_content['discussion']} \" + \\\n",
    "                      \" \".join([f\"Q: {q}\" for q in tp_content[\"questions\"]])\n",
    "    if style_examples_dialogues:  \n",
    "        spontaneous_dialogue = dialogue_generator.generate_dialogue(\n",
    "            tp_title, section_content, host_persona, guest_persona, style_examples_dialogues\n",
    "        )\n",
    "    else:                \n",
    "        spontaneous_dialogue = dialogue_generator.generate_dialogue(\n",
    "            tp_title, section_content, host_persona, guest_persona\n",
    "        )\n",
    "    podcast_dialogues.append({\"section\": tp_title, \"dialogue\": spontaneous_dialogue})\n",
    "# Enhance conclusion\n",
    "conclusion_key = \"Con\"\n",
    "enhanced_conclusion = enhancer.enhance_section(\n",
    "    conclusion_key,\n",
    "    \" \".join(outline[conclusion_key][\"script\"]),\n",
    "    criteria=\"Powerful, thoughtful, reflective, and thought-provoking\"\n",
    ")\n",
    "podcast_dialogues.append({\"section\": conclusion_key, \"dialogue\": enhanced_conclusion})\n"
   ]
  },
  {
   "cell_type": "code",
   "execution_count": 13,
   "id": "6d450d18",
   "metadata": {},
   "outputs": [
    {
     "data": {
      "text/plain": [
       "[{'section': 'Intro1',\n",
       "  'dialogue': '**Podcast Intro Script:**\\n\\n🎙️ *[Upbeat music fades in]*  \\n\\n\"Hey there, friends and listeners! 🎉 Welcome to the show! I’m Alex, and I couldn’t be more excited to have you here! This is *the* go-to place for buzzing conversations, eye-opening insights, and fresh takes on all things education. 🚀  \\n\\nWhether you’re an educator, a lifelong learner, or just curious about the world around you, we’ve got something special just for YOU. So get comfy, turn up the volume, and let’s dive right into today’s thought-provoking journey together. Thanks for tuning in — trust me, you don’t want to miss a second of this!\"  \\n\\n🎙️ *[Music swells and fades out]*'},\n",
       " {'section': 'Intro2',\n",
       "  'dialogue': '**Intro2 - Modified Version**\\n\\n🎙️ *[Upbeat and engaging music fades out]*  \\n\\n**Host:** Hey there, listeners! Welcome back to another exciting episode of [Podcast Name]! Buckle up, because today, we’re diving headfirst into a topic that’s transforming the world as we know it. That’s right—*AI in Education*! 🚀  \\n\\nImagine a classroom where technology doesn’t just assist but actively empowers students and teachers alike. Sounds like science fiction, right? Well, it’s happening *right now*, and the possibilities are absolutely mind-blowing!  \\n\\nAnd guess what? We have the perfect person to guide us through this fascinating journey. Joining us is Jamie—the brilliant mind behind an innovative startup that’s all about using AI to supercharge learning. Jamie’s not just passionate about tech; they’re revolutionizing how we think about education. Can you feel the energy already? Because I sure can!  \\n\\nThis is going to be one for the books, folks—literally! So, grab your favorite beverage, get comfy, and prepare to be inspired. Let’s dive in!  \\n\\n🎙️ *[Music transitions to next section]*  '},\n",
       " {'section': 'Point Title 1',\n",
       "  'dialogue': \"{'host': 'Alright, Jamie, so let’s dive into something that’s been buzzing lately—AI and its role in education. Specifically, Point Title 1: how AI is personalizing learning experiences for students. You know, it’s a huge shift, right?', 'guest': 'Oh, absolutely, Alex. It’s a game-changer. I mean, when you think about traditional classrooms, they’re often “one size fits all,” and that just doesn’t work for every student.'}\\n\\n{'host': 'Exactly! So, here’s what I’ve been wondering: How does AI, you know, really manage to adapt to those different learning styles? Like, is it magic or—<laughter>', 'guest': '<laughs> Well, not magic, but it sure seems like it, doesn’t it? [pause: 2s] It’s all about using data. AI systems observe patterns in how students interact with content—uh, how fast they learn something, where they get stuck, stuff like that. Then it tailors lessons accordingly.'}\\n\\n{'host': 'Right, right! So, if a student’s struggling with, say, fractions—ugh, the bane of my math existence—it’s smart enough to slow down and maybe suggest simpler exercises?', 'guest': 'Exactly! And it gets even better. Some systems will—that is, they can factor in whether a student learns better through visuals, hands-on tasks, or even gamified approaches. It’s like having a customizable tutor for every kid.'}\\n\\n{'host': 'Wow, that sounds incredible. But here’s where I get curious. Are there tools or platforms right now that are—uh, let’s say, leading the charge in personalized learning?', 'guest': 'Oh yeah, definitely. I mean, there’s one that springs to mind immediately—Knewton. They’ve been working on this adaptive learning thing for years. And also tools like DreamBox Learning for younger kids. It’s really interactive and can, uh, change the level of difficulty dynamically. [pause: 3s] And then you’ve got CenturyTech, which uses insights from AI to really focus on, you know, improving individual performance.'}\\n\\n{'host': 'Amazing. But okay, play devil’s advocate with me here for a second. Is there ever a ceiling to how personalized these experiences can get? Like, when does it go from incredible to a little… creepy?', 'guest': '<hesitates> Ahh, that's a great question. [pause: 1s] I suppose the fine line is, you know, in transparency—making sure both students and parents understand how their data is being used. And ideally, keeping human educators in the loop at all times. AI shouldn't replace teachers; it should enhance what they can already do.'}\\n\\n{'host': 'Yeah, that partnership between humans and tech, that’s key. I mean, as an educator myself, I’d never trust a robot over, say, a teacher’s intuition. But it’s great to hear how adaptive these systems can get!', 'guest': 'Totally agree. [pause: 2s] AI’s role should always be about enrichment, not replacement. And it does bring a fresh perspective—I mean, it doesn’t tire out after 20 explanations of the same concept, right? <laughter>'}\\n\\n{'host': '<laughs> Seriously! Well Jamie, this is fascinating stuff. I can already picture AI being the assistant every overworked teacher dreams of. Thanks for shedding some light on this emerging world.', 'guest': 'Oh, my pleasure, Alex! It’s exciting to see how tech like this can really, well, transform education for the better.'}  \"},\n",
       " {'section': 'Point Title 2',\n",
       "  'dialogue': '{\\'host\\': \"Alright, Jamie, let’s dive into something I know teachers are genuinely curious about—and probably crossing their fingers for. Automated grading. Now, you’re front and center in this tech revolution, so tell me, how is AI shaking up the grading routine for educators?\",  \\n \\'guest\\': \"[pause: 2s] Oh, Alex, it\\'s a game-changer. I mean, grading can be… let’s be honest, it’s the tedious part of teaching, right? And educators already have so much on their plates—lesson planning, student engagement, keeping up with parents. AI steps in to handle these repetitive tasks, and it gives them more time for the big stuff. You know, the human connection, the creativity. That’s where our tech comes in.\"  \\n \\'host\\': \"<nodding> I love that human connection bit. But okay, I hear this a lot from folks: how does it actually work? Are we talking scanning essays, numbers crunching, magic vibes—what’s the science?\"  \\n \\'guest\\': \"<laughs> I like the ‘magic vibes’ idea! But seriously, automated grading uses AI algorithms that are trained to analyze patterns, check for comprehension, even evaluate written responses. And, uh [hesitates]—well, it still depends on the subject matter, of course. Math tests? A breeze for AI. Essays and creative assignments, though—those are trickier. We’ve made huge strides in natural language processing, so AI can assess things like grammar, clarity, and structure. It’s not perfect, but honestly, it’s surprisingly good.\"  \\n \\'host\\': \"Okay, so you mentioned essays—this is where I get skeptical. I mean, as an old-school teacher, I feel like there\\'s nuance, emotion, context… Can AI actually pick up on those things?\"  \\n \\'guest\\': \"Great point. I’ll be honest with you, Alex, AI’s getting better every year, but it\\'s not quite ready to replace, you know, the human touch. Essays, creativity, tone? Humans still win there, hands down. What AI *can* do, though, is provide that first layer of feedback—like flagging issues with sentence structure or coherence. Then teachers can come in with their expertise and finesse.\"  \\n \\'host\\': \"<interrupts> So it’s more like a collaborative process?\"  \\n \\'guest\\': \"Exactly. A partnership. AI helps streamline the workflow, speeds up the mechanical stuff, while teachers bring the heart and the depth to the evaluation. It’s never about replacing—it’s about supporting educators and freeing them up for the stuff only they can do.\"  \\n \\'host\\': \"<nodding> You’re making me feel better about this now. Okay, smart tools aside, I gotta ask—accuracy. Like, can these tools ever get so good that they’re foolproof?\"  \\n \\'guest\\': \"<pause: 3s> Uh, I wouldn’t say foolproof yet, but they’re becoming *really* reliable. You know, we’re using massive datasets to train these systems. They’re learning from millions of examples, so they get sharper with time. That said, transparency is huge. That means showing teachers and students how decisions are made. The goal isn’t just a black-box solution—it’s about trust and understanding.\"  \\n \\'host\\': \"<thoughtful pause: 2s> Hmm. You just touched on something really important—trust. I imagine some educators might worry about relying too much on machines. What do you think it’ll take to get everyone on board?\"  \\n \\'guest\\': \"Ah, it’s a process, no question. Trust comes from time, experience, and collaboration. When educators see AI tools helping without stepping on their toes, I think they’ll embrace it naturally. But it’ll always come down to choice. If teachers feel like they\\'re *choosing* to use these tools rather than being forced, it\\'ll make all the difference.\"  \\n \\'host\\': \"<smiling> Jamie, you’re giving me hope for all my fellow teachers out there. And hey, who doesn’t want to save a little time grading?”  \\n \\'guest\\': \"<laughing> Exactly! Time saved means more coffee breaks—or, you know, inspiring those kids. <overlap laughter>\"}'},\n",
       " {'section': 'Point Title 3',\n",
       "  'dialogue': '**Host Alex**: So, Jamie, one of the topics I find incredibly exciting—and honestly, so important—is AI making education more accessible, especially for students with disabilities. [pause: 2s] Could you talk a little about, um, the ways AI is already supporting these students today?\\n\\n**Guest Jamie**: Oh, absolutely! This is a huge area of opportunity. You know, we\\'re seeing AI tools that adapt learning materials for students with visual impairments, uh, like text-to-speech technologies that are getting *really* advanced. [pause: 1s] And—oh, and speech-to-text too for students who are hard of hearing. That’s been a *game-changer* in classrooms. \\n\\n**Host Alex**: Yes! I’ve seen those in action. It\\'s kind of amazing how *seamless* it’s becoming, right? [pause: 2s] Like, students can almost forget the barrier and focus just on the content they’re learning.\\n\\n**Guest Jamie**: Totally. And, um, one of my favorites—well, I guess it’s more emerging—is using AI-driven captioning during live lectures. Uh, some startups have these tools that can generate captions in *real time,* even detecting different accents or colloquial language. It\\'s—it\\'s really moving the needle. <thoughtful pause> Plus, complementing that with automatic summarization for students who need to revisit lessons later? I mean, that’s just…\\n\\n**Host Alex**: Incredible.\\n\\n**Guest Jamie**: Right? It\\'s something we only dreamed about ten years ago.\\n\\n**Host Alex**: Absolutely, and it’s all about *equity*, isn’t it? AI feels like—it feels like this bridge between where we are today and where education *needs* to be, especially for kids with disabilities who may not have had equal access before. \\n\\n**Guest Jamie**: Yes, exactly. And—and another piece I’m excited about is personalized learning pathways. Like, AI can analyze a student\\'s progress, find the gaps, and provide tailored support—whether that’s through, um, visual aids or auditory quizzes—whatever works best for them. That’s, uh… it’s like unlocking a whole new world for educators, too.\\n\\n**Host Alex**: Mmm. And okay, what about, uh, looking forward? What advances do you see within the field, [pause: 1.5s] like in the next five, ten years?\\n\\n**Guest Jamie**: Ooh, such a good question! [pause: 2s] I think we’ll see AI getting better at *proactivity*. Like instead of just responding to a student’s needs, it’ll start anticipating them. Imagine a system that learns, uh, not just a student’s challenges but also their *frustration points*, if that makes sense. [pause: 2s] And then adapting lessons to avoid those pain points entirely. \\n\\n**Host Alex**: Ooh, that’s fascinating. So it’s less \"reactive AI\" and more \"intuitive AI.\" \\n\\n**Guest Jamie**: Exactly! <laughter> And—I mean, this could also involve wearable devices, like, uh, smart glasses maybe, that act as, like, an assistive co-teacher. They could use augmented reality overlays to, to—how do I say it?—translate the world into a more accessible format *in real time.* \\n\\n**Host Alex**: It sounds like science fiction, but it’s right around the corner.\\n\\n**Guest Jamie**: Totally. I know—and—and this part really excites me: not just students benefitting from the accessibility tools, but other students seeing this as *normal*. Like everyone in the class might use tools that cater to different needs, breaking down that stigma completely. \\n\\n**Host Alex**: Oh yeah, I love that. The idea that accessibility doesn’t stand out—it just *is.* [pause: 2s] Jamie, this is—I mean, we could talk all day about this, but wow, the future you\\'ve described is inspiring. \\n\\n**Guest Jamie**: Thank you. And—and I think it’s really about using tech to make education *belong* to everyone.\\n\\n**Host Alex**: Couldn’t agree more.'},\n",
       " {'section': 'Point Title 4',\n",
       "  'dialogue': \"{'host': 'Jamie, we’ve talked about the possibilities AI opens up in education, but... you know, I think we also need to address the other side of it—the ethical concerns. What do you feel are some of the biggest ones educators and developers should be considering these days?', 'guest': 'Oh, wow, that’s a big question, Alex. Um…yeah, so one of the biggest concerns for me has to be bias in AI algorithms. It’s kind of scary when you think about it because these algorithms are only as good as the data they’re trained on, right? [pause: 2s] And if that data is biased, or even incomplete, then suddenly—boom—you’re teaching students based on skewed perspectives.', 'host': 'Exactly! And I’ve seen cases where cultural contexts are just missing altogether, which can be really damaging. But what about data privacy? That’s got to be up there too, right?', 'guest': '[laughs lightly] Oh, absolutely, data privacy is huge. I mean, we’re asking schools to trust these systems with sensitive student data, everything from test scores to behavioral patterns. If that information gets into the wrong hands or is misused, well, that’s a whole new problem.', 'host': '<nodding> Yeah, and it’s not just schools—it’s parents, too. They want to know that their kids’ information isn’t being exploited. So what do we do? How do we tackle biases and data privacy concerns in a sustainable way?', 'guest': 'I think it’s a combination of things, really. Developers and educators need to—and I mean really need to—work together on this. First off, transparency is key. [pause: 1s] Like, let’s demystify how these AI systems work. If you don’t know what’s going on behind the scenes, how can you trust it?', 'host': 'Right, right. And accountability, too, right?', 'guest': '[overlapping] Yes, accountability—making sure there are checks and balances in place. Also, maybe even involving third-party audits. And, oh, I’ve got to say, involving diverse teams to design these algorithms—that’s absolutely essential. You can’t tackle bias if everyone creating the systems comes from the same background.', 'host': 'Oh, absolutely. <enthusiastic tone> Diversity in design, Jamie, that’s such a great point! Okay, so if we’re thinking about best practices, what’s the one thing you would tell a developer starting off on an AI project for schools?', 'guest': '[pause: 2s] Honestly? Start thinking about ethics on day one. Don’t wait until you’re launching to consider privacy or bias—bake it into the foundation. And—and also, listen to educators. I think there’s a lot of wisdom there that tech teams might not have on their own.', 'host': 'Couldn’t agree more. Listening to the people working with students every day might just be the secret sauce here. Fantastic insight, Jamie.'}\"},\n",
       " {'section': 'Con',\n",
       "  'dialogue': '**Podcast Section: The Con Side**  \\n*Theme: Thoughtful Examination of AI in Education*  \\n\\n[Host\\'s voice, steady and intentional, as if inviting the listener on a journey of reflection.]  \\n\\n\"As remarkable as the promise of AI is in reshaping the fabric of education, it would be naive to ignore the intricate, and at times, unsettling questions that accompany its rise. How do we ensure this revolutionary tool empowers every student equally—and not just those with access to cutting-edge technology? What ethical boundaries must we uphold when algorithms begin making decisions in spaces as human as the classroom?  \\n\\nAnd perhaps the most profound question of all: what are the long-term implications for the very soul of education? When machines offer instant answers, tailored lessons, and unseen efficiency, what happens to the slow, deliberate, and messy process of learning—the process that builds character as much as it builds knowledge?  \\n\\nThe challenge ahead cannot simply rest on the shoulders of developers or policymakers. Educators—those closest to the hearts and minds of future generations—must step forward as moral stewards in this unfolding story. But how? How can they rise as advocates for ethical practices, guiding technology not as a replacement for humanity, but as its partner?  \\n\\nPerhaps the answer lies not in resisting change, but in shaping it thoughtfully—a mission that demands courage, wisdom, and an unyielding commitment to what we value most in education. So, let me ask: What role must schools, teachers, and communities play in ensuring AI doesn’t just serve its promise, but reflects our deepest principles?\"  \\n\\n[Pause for a moment, with light instrumental music fading in, giving the listener space to think.]  \\n\\n\"One thing is clear—this conversation is more than about technology; it’s about trust, fairness, and a shared hope for the future. Are we ready to lead AI in classrooms—and not just let it lead us?\"  \\n\\n[Host closes the segment with a thoughtful tone, seamlessly transitioning to the next.]  '}]"
      ]
     },
     "execution_count": 13,
     "metadata": {},
     "output_type": "execute_result"
    }
   ],
   "source": [
    "podcast_dialogues"
   ]
  },
  {
   "cell_type": "code",
   "execution_count": null,
   "id": "ba1adba6",
   "metadata": {},
   "outputs": [],
   "source": [
    "def modify_dialogues_by_persona(dialogues, persona_criteria):\n",
    "    modified_dialogues = []\n",
    "    all_dialogues=[]\n",
    "    for dialogue in dialogues:\n",
    "        all_dialogues.extend(dialogue['dialogue'])\n",
    "        \n",
    "    modified_dialogues = enhancer.enhance_section(\n",
    "        \"Overall Podcast\",\n",
    "        all_dialogues,\n",
    "        criteria=persona_criteria\n",
    "    )\n",
    "    return modified_dialogues\n",
    "\n",
    "def save_podcast_to_json(podcast, filename=\"podcast2.json\"):\n",
    "    with open(filename, 'w') as f:\n",
    "        json.dump(podcast, f, indent=4)\n"
   ]
  },
  {
   "cell_type": "code",
   "execution_count": 20,
   "id": "5198ef28",
   "metadata": {},
   "outputs": [],
   "source": [
    "modified_podcast = modify_dialogues_by_persona(podcast_dialogues, \"Conversational, friendly, and engaging\")"
   ]
  },
  {
   "cell_type": "code",
   "execution_count": 25,
   "id": "c8c3858b",
   "metadata": {},
   "outputs": [],
   "source": [
    "save_podcast_to_json(modified_podcast)"
   ]
  },
  {
   "cell_type": "code",
   "execution_count": 16,
   "id": "572b7c64",
   "metadata": {},
   "outputs": [
    {
     "data": {
      "text/plain": [
       "\"Sure! Here's your engaging, conversational reworking of the provided podcast script:\\n\\n---\\n\\n🎙️ [Upbeat music transitions in]\\n\\n**Host Alex**: Hey there, wonderful listeners! Welcome back to another exciting episode of [Podcast Name], the place where buzzing conversations meet fresh insights and cool takes on the fascinating world of education. 🚀 \\n\\nI'm Alex, your podcast host and curious mind navigating the ever-evolving intersection of technology and learning. Honestly, I'm downright thrilled to have you here! So, take a deep breath, grab your favorite beverage, find a comfy spot, and let's dive right into today’s thought-provoking journey together! 🎉\\n\\nToday’s topic? Drumroll, please... *AI in Education*! Yes, we're going straight into the AI revolution happening in classrooms. Imagine this: a future where technology doesn’t just support, but actively empowers educators and students. Sounds a little sci-fi, doesn't it? But guess what—it's happening. Right. Now.\\n\\nJoining me today to unpack this electrifying subject is none other than Jamie—an innovator on the cutting edge of AI and education! Jamie's startup is shaking things up, leveraging AI to supercharge learning experiences in incredible ways. Jamie, welcome to the show!\\n\\n**Guest Jamie**: Thanks so much, Alex! I’m pumped to be here and chat about this—it’s such a meaningful topic!\\n\\n---\\n\\n🎙️ [Music swells lightly as the conversation warms]\\n\\n**Host Alex**: So Jamie, I’ve got to ask—what’s the buzz about these classrooms powered by AI? I mean, we’re talking personalized learning, adaptive tech, and maybe a sprinkle of magic along the way?\\n\\n**Guest Jamie**: Oh, it’s more than just buzz, Alex. AI is a game-changer! Think about the traditional “one-size-fits-all” model of learning—you know the type that doesn’t really *fit* anyone. AI flips the script entirely. By analyzing patterns in how students learn—where they accelerate, where they struggle—it personalizes lessons dynamically. It’s like having an adjustable tutor for every single kid. 🚀\\n\\n**Host Alex**: Ah, that makes sense! But wait—are we talking flawless customization here? Like, let’s say a student gets stuck with fractions (the literal bane of my math existence). How does AI step in?\\n\\n**Guest Jamie**: Exactly! Say a student is having trouble with fractions—AI can slow things down, provide simpler exercises, and even introduce gamified tasks that make the learning stick. Then it adapts as the student progresses. It’s endlessly flexible!\\n\\n**Host Alex**: That’s so fascinating. It’s like having a teaching partner that never gets tired—a superhero for education. But Jamie, tell me: are there AI tools or platforms leading the charge right now?\\n\\n**Guest Jamie**: Absolutely. A few spring to mind. [Name of platform], for example, has nailed adaptive learning for years. And for younger kids, there’s DreamBox Learning—it’s interactive, progressive, and modifies difficulty dynamically. Also Century Tech is super insightful—it uses AI to optimize individual learning performance over time!\\n\\n---\\n\\n🎙️ [Quick transition music to spark curiosity]\\n\\n**Host Alex**: Okay, so here's a curveball for you—what about the ethical side of all this? With AI making strides in classrooms, what are the real concerns educators and innovators should be keeping top of mind?\\n\\n**Guest Jamie**: That’s the million-dollar question, Alex. One big concern is bias. AI is only as smart as the data it learns from, and if that data’s biased, well, the impact can ripple across classrooms in ways that reinforce, rather than resolve, inequities. Another huge issue? Data privacy. We're asking schools to trust these systems with sensitive student data, from test scores to behavioral patterns. If that information gets misused... let’s just say it’s a whole new area of potential risk.\\n\\n**Host Alex**: [Nodding] Yep, you’re absolutely right. I imagine even parents might worry whether their kids’ information is being used responsibly. So—how do we tackle these challenges sustainably?\\n\\n**Guest Jamie**: Transparency, Alex. Demystifying how AI systems work—what decisions they’re making and why—is essential. Accountability plays a major role too, through audits, diverse teams designing these algorithms, and ethical practices baked right in from day one.\\n\\n**Host Alex**: [Smiling] Day one ethics. I love it. Listening to the people working hands-on with students every single day seems like the secret sauce here. Fantastic insight, Jamie!\\n\\n---\\n\\n🎙️ [Music fades and transitions to a slower, reflective tone]\\n\\n**Host Alex**: Alright, Jamie, here’s the big question I’ve been holding onto: What’s next? What do you see on the horizon for AI in education—say in the next five, ten years?\\n\\n**Guest Jamie**: Honestly? Proactivity will be key. Imagine AI that doesn’t just respond to challenges but anticipates them—in real-time. Systems that understand students’ learning frustration points before they hit them. That kind of intuitive adaptability? It’s not just around the corner—it’s about to knock on the door.\\n\\n**Host Alex**: So... we’re moving from “reactive AI” to “intuitive AI.” That’s truly groundbreaking. I mean, we’re talking wearable tech, real-time augmented reality tutors—this stuff sounds like sci-fi, Jamie, but it’s closer than we think!\\n\\n**Guest Jamie**: I know, Alex—it’s thrilling and honestly inspiring. Not just for accessibility, but for how it normalizes diverse learning tools. When every student, no matter their challenges, has access to these resources seamlessly? That’s where the real magic happens.\\n\\n---\\n\\n🎙️ [Closing theme music begins softly]\\n\\n**Host Alex**: Jamie, I seriously feel like we could talk for hours about this. The future you’ve described is inspiring—and honestly, it gives me hope. But before we wrap, one last thought: How do we keep ourselves grounded? Schools, teachers, communities—how do we ensure AI doesn’t just innovate but reflects our values?\\n\\n[Pause for reflection, light instrumental music fading in.]\\n\\n**Host Alex**: Folks, this has been more than a dive into technology—it’s been an exploration of trust, fairness, and the heart of education itself. Are we ready to lead AI in classrooms—or are we letting it lead us? That’s the question. Let’s not just embrace the promise of AI, but shape it thoughtfully. With courage, wisdom, and an unyielding commitment to what matters most.\\n\\n[Thoughtful pause.]\\n\\n**Host Alex**: Until next time—stay curious, stay inspired, and let’s keep shaping the future together. Thanks for tuning in!\\n\\n🎙️ [Outro music swells as the segment transitions out.]\\n\\n---\\n\\n### Why It Works:\\nThis updated script retains the depth of your original content but elevates it with conversational energy, a touch of humor, and compelling momentum to keep listeners engaged throughout. Let me know if you’d like further tweaks!\""
      ]
     },
     "execution_count": 16,
     "metadata": {},
     "output_type": "execute_result"
    }
   ],
   "source": [
    "modified_podcast"
   ]
  },
  {
   "cell_type": "code",
   "execution_count": null,
   "id": "1a6ef360",
   "metadata": {},
   "outputs": [],
   "source": []
  }
 ],
 "metadata": {
  "kernelspec": {
   "display_name": "base",
   "language": "python",
   "name": "python3"
  },
  "language_info": {
   "codemirror_mode": {
    "name": "ipython",
    "version": 3
   },
   "file_extension": ".py",
   "mimetype": "text/x-python",
   "name": "python",
   "nbconvert_exporter": "python",
   "pygments_lexer": "ipython3",
   "version": "3.12.7"
  }
 },
 "nbformat": 4,
 "nbformat_minor": 5
}
